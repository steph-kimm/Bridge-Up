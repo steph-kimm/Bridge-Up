{
 "cells": [
  {
   "cell_type": "markdown",
   "metadata": {},
   "source": [
    "# Classifying brains with Machine Learning\n",
    "In this notebook you will learn how to use machine learning to predict whether or not a brain belongs to a modern bird or a non-avian dinosaur. "
   ]
  },
  {
   "cell_type": "markdown",
   "metadata": {},
   "source": [
    "First import pandas, numpy, and matplotlib.pyplot:"
   ]
  },
  {
   "cell_type": "code",
   "execution_count": 1,
   "metadata": {},
   "outputs": [
    {
     "ename": "ModuleNotFoundError",
     "evalue": "No module named 'graphviz'",
     "output_type": "error",
     "traceback": [
      "\u001b[0;31m---------------------------------------------------------------------------\u001b[0m",
      "\u001b[0;31mModuleNotFoundError\u001b[0m                       Traceback (most recent call last)",
      "\u001b[0;32m<ipython-input-1-d7704f8d5980>\u001b[0m in \u001b[0;36m<module>\u001b[0;34m\u001b[0m\n\u001b[1;32m      5\u001b[0m \u001b[0;32mfrom\u001b[0m \u001b[0msklearn\u001b[0m\u001b[0;34m.\u001b[0m\u001b[0mmodel_selection\u001b[0m \u001b[0;32mimport\u001b[0m \u001b[0mtrain_test_split\u001b[0m\u001b[0;34m\u001b[0m\u001b[0;34m\u001b[0m\u001b[0m\n\u001b[1;32m      6\u001b[0m \u001b[0;32mfrom\u001b[0m \u001b[0msklearn\u001b[0m\u001b[0;34m.\u001b[0m\u001b[0mtree\u001b[0m \u001b[0;32mimport\u001b[0m \u001b[0mexport_graphviz\u001b[0m\u001b[0;34m\u001b[0m\u001b[0;34m\u001b[0m\u001b[0m\n\u001b[0;32m----> 7\u001b[0;31m \u001b[0;32mimport\u001b[0m \u001b[0mgraphviz\u001b[0m\u001b[0;34m\u001b[0m\u001b[0;34m\u001b[0m\u001b[0m\n\u001b[0m\u001b[1;32m      8\u001b[0m \u001b[0;32mimport\u001b[0m \u001b[0mpydotplus\u001b[0m\u001b[0;34m\u001b[0m\u001b[0;34m\u001b[0m\u001b[0m\n",
      "\u001b[0;31mModuleNotFoundError\u001b[0m: No module named 'graphviz'"
     ]
    }
   ],
   "source": [
    "import pandas as pd \n",
    "import numpy as np\n",
    "import matplotlib.pyplot as plt\n",
    "from sklearn.metrics import accuracy_score\n",
    "from sklearn.model_selection import train_test_split\n",
    "from sklearn.tree import export_graphviz\n",
    "import graphviz\n",
    "import pydotplus"
   ]
  },
  {
   "cell_type": "markdown",
   "metadata": {},
   "source": [
    "We will also need the tree module of the sklearn library:"
   ]
  },
  {
   "cell_type": "code",
   "execution_count": 2,
   "metadata": {},
   "outputs": [],
   "source": [
    "from sklearn import tree"
   ]
  },
  {
   "cell_type": "markdown",
   "metadata": {},
   "source": [
    "Read the bird_dino_data.csv file into a dataframe and add two new columns:\n",
    "- Brain vs body mass (use total endocranium / body mass*1000)\n",
    "- Cerebrum vs total brain (use cerebrum / endocranium)"
   ]
  },
  {
   "cell_type": "code",
   "execution_count": 3,
   "metadata": {},
   "outputs": [],
   "source": [
    "df = pd.read_csv(\"bird_dino_data.csv\")\n"
   ]
  },
  {
   "cell_type": "code",
   "execution_count": 4,
   "metadata": {},
   "outputs": [],
   "source": [
    "df[\"Brain vs body mass\"] = df[\"Total Endocranium (cm3)\"]/(df[\"Body Mass (kg)\"]*1000)\n",
    "df[\"Cerebrum vs total brain\"]= df[\"Cerebrum (cm3)\"]/df[\"Total Endocranium (cm3)\"]"
   ]
  },
  {
   "cell_type": "markdown",
   "metadata": {},
   "source": [
    "Find the head of your dataframe to check that your changes are correct:"
   ]
  },
  {
   "cell_type": "code",
   "execution_count": 5,
   "metadata": {},
   "outputs": [
    {
     "data": {
      "text/html": [
       "<div>\n",
       "<style scoped>\n",
       "    .dataframe tbody tr th:only-of-type {\n",
       "        vertical-align: middle;\n",
       "    }\n",
       "\n",
       "    .dataframe tbody tr th {\n",
       "        vertical-align: top;\n",
       "    }\n",
       "\n",
       "    .dataframe thead th {\n",
       "        text-align: right;\n",
       "    }\n",
       "</style>\n",
       "<table border=\"1\" class=\"dataframe\">\n",
       "  <thead>\n",
       "    <tr style=\"text-align: right;\">\n",
       "      <th></th>\n",
       "      <th>Species ID</th>\n",
       "      <th>Bird or Dino</th>\n",
       "      <th>Body Mass (kg)</th>\n",
       "      <th>Total Endocranium (cm3)</th>\n",
       "      <th>Olfactory bulbs (cm3)</th>\n",
       "      <th>Cerebrum (cm3)</th>\n",
       "      <th>Optic Lobes (cm3)</th>\n",
       "      <th>Cerebellum (cm3)</th>\n",
       "      <th>Brain Stem (cm3)</th>\n",
       "      <th>Brain vs body mass</th>\n",
       "      <th>Cerebrum vs total brain</th>\n",
       "    </tr>\n",
       "  </thead>\n",
       "  <tbody>\n",
       "    <tr>\n",
       "      <th>0</th>\n",
       "      <td>3</td>\n",
       "      <td>Bird</td>\n",
       "      <td>0.01</td>\n",
       "      <td>2.20</td>\n",
       "      <td>0.003</td>\n",
       "      <td>1.57</td>\n",
       "      <td>0.20</td>\n",
       "      <td>0.34</td>\n",
       "      <td>0.08</td>\n",
       "      <td>0.220000</td>\n",
       "      <td>0.713636</td>\n",
       "    </tr>\n",
       "    <tr>\n",
       "      <th>1</th>\n",
       "      <td>4</td>\n",
       "      <td>Bird</td>\n",
       "      <td>0.03</td>\n",
       "      <td>4.02</td>\n",
       "      <td>0.010</td>\n",
       "      <td>2.22</td>\n",
       "      <td>0.73</td>\n",
       "      <td>0.76</td>\n",
       "      <td>0.29</td>\n",
       "      <td>0.134000</td>\n",
       "      <td>0.552239</td>\n",
       "    </tr>\n",
       "    <tr>\n",
       "      <th>2</th>\n",
       "      <td>5</td>\n",
       "      <td>Bird</td>\n",
       "      <td>0.02</td>\n",
       "      <td>1.98</td>\n",
       "      <td>0.009</td>\n",
       "      <td>1.53</td>\n",
       "      <td>0.20</td>\n",
       "      <td>0.16</td>\n",
       "      <td>0.06</td>\n",
       "      <td>0.099000</td>\n",
       "      <td>0.772727</td>\n",
       "    </tr>\n",
       "    <tr>\n",
       "      <th>3</th>\n",
       "      <td>6</td>\n",
       "      <td>Bird</td>\n",
       "      <td>0.01</td>\n",
       "      <td>0.87</td>\n",
       "      <td>0.006</td>\n",
       "      <td>0.46</td>\n",
       "      <td>0.24</td>\n",
       "      <td>0.11</td>\n",
       "      <td>0.06</td>\n",
       "      <td>0.087000</td>\n",
       "      <td>0.528736</td>\n",
       "    </tr>\n",
       "    <tr>\n",
       "      <th>4</th>\n",
       "      <td>7</td>\n",
       "      <td>Bird</td>\n",
       "      <td>0.17</td>\n",
       "      <td>9.11</td>\n",
       "      <td>0.015</td>\n",
       "      <td>6.09</td>\n",
       "      <td>0.88</td>\n",
       "      <td>1.62</td>\n",
       "      <td>0.49</td>\n",
       "      <td>0.053588</td>\n",
       "      <td>0.668496</td>\n",
       "    </tr>\n",
       "  </tbody>\n",
       "</table>\n",
       "</div>"
      ],
      "text/plain": [
       "   Species ID Bird or Dino  Body Mass (kg)  Total Endocranium (cm3)  \\\n",
       "0           3         Bird            0.01                     2.20   \n",
       "1           4         Bird            0.03                     4.02   \n",
       "2           5         Bird            0.02                     1.98   \n",
       "3           6         Bird            0.01                     0.87   \n",
       "4           7         Bird            0.17                     9.11   \n",
       "\n",
       "   Olfactory bulbs (cm3)  Cerebrum (cm3)  Optic Lobes (cm3)  Cerebellum (cm3)  \\\n",
       "0                  0.003            1.57               0.20              0.34   \n",
       "1                  0.010            2.22               0.73              0.76   \n",
       "2                  0.009            1.53               0.20              0.16   \n",
       "3                  0.006            0.46               0.24              0.11   \n",
       "4                  0.015            6.09               0.88              1.62   \n",
       "\n",
       "   Brain Stem (cm3)  Brain vs body mass  Cerebrum vs total brain  \n",
       "0              0.08            0.220000                 0.713636  \n",
       "1              0.29            0.134000                 0.552239  \n",
       "2              0.06            0.099000                 0.772727  \n",
       "3              0.06            0.087000                 0.528736  \n",
       "4              0.49            0.053588                 0.668496  "
      ]
     },
     "execution_count": 5,
     "metadata": {},
     "output_type": "execute_result"
    }
   ],
   "source": [
    "df.head()"
   ]
  },
  {
   "cell_type": "markdown",
   "metadata": {},
   "source": [
    "Our machine learning library requires that we replace our \"classes\" with integers instead of strings. \n",
    "\n",
    "Change the values of the \"Bird or Dino\" column from \"Bird\" to \"0\" and from \"Dino\" to \"1\":\n",
    "\n",
    "Hints: \n",
    "- use .loc indexes\n",
    "- you can reassign the value in a dataframe column using =\n",
    "\n",
    "*Ignore the warning. Pandas tries to discourage you from making changes to the original dataframe, but it's ok*"
   ]
  },
  {
   "cell_type": "code",
   "execution_count": 6,
   "metadata": {},
   "outputs": [
    {
     "name": "stderr",
     "output_type": "stream",
     "text": [
      "/Users/brownscholar/anaconda3/lib/python3.7/site-packages/pandas/core/indexing.py:190: SettingWithCopyWarning: \n",
      "A value is trying to be set on a copy of a slice from a DataFrame\n",
      "\n",
      "See the caveats in the documentation: http://pandas.pydata.org/pandas-docs/stable/indexing.html#indexing-view-versus-copy\n",
      "  self._setitem_with_indexer(indexer, value)\n"
     ]
    }
   ],
   "source": [
    "##0 is bird and 1 is dino\n",
    "df[\"Bird or Dino\"].loc[df[\"Bird or Dino\"] == \"Bird\"] = 0\n",
    "df[\"Bird or Dino\"].loc[df[\"Bird or Dino\"] == \"Dino\"] = 1"
   ]
  },
  {
   "cell_type": "markdown",
   "metadata": {},
   "source": [
    "Find the head of your dataframe to check that your changes are correct:"
   ]
  },
  {
   "cell_type": "code",
   "execution_count": 7,
   "metadata": {},
   "outputs": [
    {
     "data": {
      "text/html": [
       "<div>\n",
       "<style scoped>\n",
       "    .dataframe tbody tr th:only-of-type {\n",
       "        vertical-align: middle;\n",
       "    }\n",
       "\n",
       "    .dataframe tbody tr th {\n",
       "        vertical-align: top;\n",
       "    }\n",
       "\n",
       "    .dataframe thead th {\n",
       "        text-align: right;\n",
       "    }\n",
       "</style>\n",
       "<table border=\"1\" class=\"dataframe\">\n",
       "  <thead>\n",
       "    <tr style=\"text-align: right;\">\n",
       "      <th></th>\n",
       "      <th>Species ID</th>\n",
       "      <th>Bird or Dino</th>\n",
       "      <th>Body Mass (kg)</th>\n",
       "      <th>Total Endocranium (cm3)</th>\n",
       "      <th>Olfactory bulbs (cm3)</th>\n",
       "      <th>Cerebrum (cm3)</th>\n",
       "      <th>Optic Lobes (cm3)</th>\n",
       "      <th>Cerebellum (cm3)</th>\n",
       "      <th>Brain Stem (cm3)</th>\n",
       "      <th>Brain vs body mass</th>\n",
       "      <th>Cerebrum vs total brain</th>\n",
       "    </tr>\n",
       "  </thead>\n",
       "  <tbody>\n",
       "    <tr>\n",
       "      <th>0</th>\n",
       "      <td>3</td>\n",
       "      <td>0</td>\n",
       "      <td>0.01</td>\n",
       "      <td>2.20</td>\n",
       "      <td>0.003</td>\n",
       "      <td>1.57</td>\n",
       "      <td>0.20</td>\n",
       "      <td>0.34</td>\n",
       "      <td>0.08</td>\n",
       "      <td>0.220000</td>\n",
       "      <td>0.713636</td>\n",
       "    </tr>\n",
       "    <tr>\n",
       "      <th>1</th>\n",
       "      <td>4</td>\n",
       "      <td>0</td>\n",
       "      <td>0.03</td>\n",
       "      <td>4.02</td>\n",
       "      <td>0.010</td>\n",
       "      <td>2.22</td>\n",
       "      <td>0.73</td>\n",
       "      <td>0.76</td>\n",
       "      <td>0.29</td>\n",
       "      <td>0.134000</td>\n",
       "      <td>0.552239</td>\n",
       "    </tr>\n",
       "    <tr>\n",
       "      <th>2</th>\n",
       "      <td>5</td>\n",
       "      <td>0</td>\n",
       "      <td>0.02</td>\n",
       "      <td>1.98</td>\n",
       "      <td>0.009</td>\n",
       "      <td>1.53</td>\n",
       "      <td>0.20</td>\n",
       "      <td>0.16</td>\n",
       "      <td>0.06</td>\n",
       "      <td>0.099000</td>\n",
       "      <td>0.772727</td>\n",
       "    </tr>\n",
       "    <tr>\n",
       "      <th>3</th>\n",
       "      <td>6</td>\n",
       "      <td>0</td>\n",
       "      <td>0.01</td>\n",
       "      <td>0.87</td>\n",
       "      <td>0.006</td>\n",
       "      <td>0.46</td>\n",
       "      <td>0.24</td>\n",
       "      <td>0.11</td>\n",
       "      <td>0.06</td>\n",
       "      <td>0.087000</td>\n",
       "      <td>0.528736</td>\n",
       "    </tr>\n",
       "    <tr>\n",
       "      <th>4</th>\n",
       "      <td>7</td>\n",
       "      <td>0</td>\n",
       "      <td>0.17</td>\n",
       "      <td>9.11</td>\n",
       "      <td>0.015</td>\n",
       "      <td>6.09</td>\n",
       "      <td>0.88</td>\n",
       "      <td>1.62</td>\n",
       "      <td>0.49</td>\n",
       "      <td>0.053588</td>\n",
       "      <td>0.668496</td>\n",
       "    </tr>\n",
       "    <tr>\n",
       "      <th>5</th>\n",
       "      <td>8</td>\n",
       "      <td>0</td>\n",
       "      <td>0.05</td>\n",
       "      <td>2.48</td>\n",
       "      <td>0.008</td>\n",
       "      <td>1.63</td>\n",
       "      <td>0.41</td>\n",
       "      <td>0.26</td>\n",
       "      <td>0.17</td>\n",
       "      <td>0.049600</td>\n",
       "      <td>0.657258</td>\n",
       "    </tr>\n",
       "    <tr>\n",
       "      <th>6</th>\n",
       "      <td>9</td>\n",
       "      <td>0</td>\n",
       "      <td>0.26</td>\n",
       "      <td>12.28</td>\n",
       "      <td>0.027</td>\n",
       "      <td>8.36</td>\n",
       "      <td>1.40</td>\n",
       "      <td>1.63</td>\n",
       "      <td>0.86</td>\n",
       "      <td>0.047231</td>\n",
       "      <td>0.680782</td>\n",
       "    </tr>\n",
       "    <tr>\n",
       "      <th>7</th>\n",
       "      <td>10</td>\n",
       "      <td>0</td>\n",
       "      <td>0.17</td>\n",
       "      <td>6.76</td>\n",
       "      <td>0.055</td>\n",
       "      <td>4.69</td>\n",
       "      <td>0.95</td>\n",
       "      <td>0.53</td>\n",
       "      <td>0.53</td>\n",
       "      <td>0.039765</td>\n",
       "      <td>0.693787</td>\n",
       "    </tr>\n",
       "    <tr>\n",
       "      <th>8</th>\n",
       "      <td>11</td>\n",
       "      <td>0</td>\n",
       "      <td>0.43</td>\n",
       "      <td>14.33</td>\n",
       "      <td>0.206</td>\n",
       "      <td>9.45</td>\n",
       "      <td>1.44</td>\n",
       "      <td>2.40</td>\n",
       "      <td>0.85</td>\n",
       "      <td>0.033326</td>\n",
       "      <td>0.659456</td>\n",
       "    </tr>\n",
       "    <tr>\n",
       "      <th>9</th>\n",
       "      <td>12</td>\n",
       "      <td>0</td>\n",
       "      <td>0.30</td>\n",
       "      <td>9.87</td>\n",
       "      <td>0.041</td>\n",
       "      <td>5.50</td>\n",
       "      <td>1.62</td>\n",
       "      <td>1.94</td>\n",
       "      <td>0.77</td>\n",
       "      <td>0.032900</td>\n",
       "      <td>0.557244</td>\n",
       "    </tr>\n",
       "    <tr>\n",
       "      <th>10</th>\n",
       "      <td>13</td>\n",
       "      <td>0</td>\n",
       "      <td>1.26</td>\n",
       "      <td>22.04</td>\n",
       "      <td>0.006</td>\n",
       "      <td>16.81</td>\n",
       "      <td>2.84</td>\n",
       "      <td>1.70</td>\n",
       "      <td>0.68</td>\n",
       "      <td>0.017492</td>\n",
       "      <td>0.762704</td>\n",
       "    </tr>\n",
       "    <tr>\n",
       "      <th>11</th>\n",
       "      <td>14</td>\n",
       "      <td>0</td>\n",
       "      <td>0.10</td>\n",
       "      <td>1.11</td>\n",
       "      <td>0.003</td>\n",
       "      <td>0.63</td>\n",
       "      <td>0.27</td>\n",
       "      <td>0.13</td>\n",
       "      <td>0.07</td>\n",
       "      <td>0.011100</td>\n",
       "      <td>0.567568</td>\n",
       "    </tr>\n",
       "    <tr>\n",
       "      <th>12</th>\n",
       "      <td>15</td>\n",
       "      <td>0</td>\n",
       "      <td>0.90</td>\n",
       "      <td>8.68</td>\n",
       "      <td>0.234</td>\n",
       "      <td>5.95</td>\n",
       "      <td>0.99</td>\n",
       "      <td>0.96</td>\n",
       "      <td>0.55</td>\n",
       "      <td>0.009644</td>\n",
       "      <td>0.685484</td>\n",
       "    </tr>\n",
       "    <tr>\n",
       "      <th>13</th>\n",
       "      <td>16</td>\n",
       "      <td>0</td>\n",
       "      <td>2.06</td>\n",
       "      <td>17.69</td>\n",
       "      <td>0.032</td>\n",
       "      <td>12.24</td>\n",
       "      <td>2.16</td>\n",
       "      <td>2.18</td>\n",
       "      <td>1.07</td>\n",
       "      <td>0.008587</td>\n",
       "      <td>0.691916</td>\n",
       "    </tr>\n",
       "    <tr>\n",
       "      <th>14</th>\n",
       "      <td>17</td>\n",
       "      <td>0</td>\n",
       "      <td>2.18</td>\n",
       "      <td>15.10</td>\n",
       "      <td>0.026</td>\n",
       "      <td>11.08</td>\n",
       "      <td>1.95</td>\n",
       "      <td>0.89</td>\n",
       "      <td>1.15</td>\n",
       "      <td>0.006927</td>\n",
       "      <td>0.733775</td>\n",
       "    </tr>\n",
       "    <tr>\n",
       "      <th>15</th>\n",
       "      <td>18</td>\n",
       "      <td>0</td>\n",
       "      <td>1.20</td>\n",
       "      <td>7.69</td>\n",
       "      <td>0.036</td>\n",
       "      <td>5.18</td>\n",
       "      <td>0.90</td>\n",
       "      <td>1.00</td>\n",
       "      <td>0.58</td>\n",
       "      <td>0.006408</td>\n",
       "      <td>0.673602</td>\n",
       "    </tr>\n",
       "    <tr>\n",
       "      <th>16</th>\n",
       "      <td>19</td>\n",
       "      <td>0</td>\n",
       "      <td>2.33</td>\n",
       "      <td>11.43</td>\n",
       "      <td>0.009</td>\n",
       "      <td>8.05</td>\n",
       "      <td>1.07</td>\n",
       "      <td>1.62</td>\n",
       "      <td>0.68</td>\n",
       "      <td>0.004906</td>\n",
       "      <td>0.704287</td>\n",
       "    </tr>\n",
       "    <tr>\n",
       "      <th>17</th>\n",
       "      <td>20</td>\n",
       "      <td>1</td>\n",
       "      <td>0.92</td>\n",
       "      <td>3.11</td>\n",
       "      <td>0.021</td>\n",
       "      <td>1.38</td>\n",
       "      <td>0.87</td>\n",
       "      <td>0.50</td>\n",
       "      <td>0.33</td>\n",
       "      <td>0.003380</td>\n",
       "      <td>0.443730</td>\n",
       "    </tr>\n",
       "    <tr>\n",
       "      <th>18</th>\n",
       "      <td>21</td>\n",
       "      <td>1</td>\n",
       "      <td>0.25</td>\n",
       "      <td>0.83</td>\n",
       "      <td>0.050</td>\n",
       "      <td>0.41</td>\n",
       "      <td>0.16</td>\n",
       "      <td>0.09</td>\n",
       "      <td>0.12</td>\n",
       "      <td>0.003320</td>\n",
       "      <td>0.493976</td>\n",
       "    </tr>\n",
       "    <tr>\n",
       "      <th>19</th>\n",
       "      <td>22</td>\n",
       "      <td>1</td>\n",
       "      <td>0.50</td>\n",
       "      <td>1.44</td>\n",
       "      <td>0.077</td>\n",
       "      <td>0.60</td>\n",
       "      <td>0.36</td>\n",
       "      <td>0.24</td>\n",
       "      <td>0.17</td>\n",
       "      <td>0.002880</td>\n",
       "      <td>0.416667</td>\n",
       "    </tr>\n",
       "    <tr>\n",
       "      <th>20</th>\n",
       "      <td>24</td>\n",
       "      <td>0</td>\n",
       "      <td>59.30</td>\n",
       "      <td>56.31</td>\n",
       "      <td>0.274</td>\n",
       "      <td>36.85</td>\n",
       "      <td>7.61</td>\n",
       "      <td>6.45</td>\n",
       "      <td>5.13</td>\n",
       "      <td>0.000950</td>\n",
       "      <td>0.654413</td>\n",
       "    </tr>\n",
       "    <tr>\n",
       "      <th>21</th>\n",
       "      <td>25</td>\n",
       "      <td>1</td>\n",
       "      <td>12.61</td>\n",
       "      <td>8.83</td>\n",
       "      <td>0.028</td>\n",
       "      <td>3.71</td>\n",
       "      <td>1.31</td>\n",
       "      <td>1.60</td>\n",
       "      <td>2.17</td>\n",
       "      <td>0.000700</td>\n",
       "      <td>0.420159</td>\n",
       "    </tr>\n",
       "    <tr>\n",
       "      <th>22</th>\n",
       "      <td>26</td>\n",
       "      <td>1</td>\n",
       "      <td>49.30</td>\n",
       "      <td>25.14</td>\n",
       "      <td>1.080</td>\n",
       "      <td>14.81</td>\n",
       "      <td>4.75</td>\n",
       "      <td>3.16</td>\n",
       "      <td>2.35</td>\n",
       "      <td>0.000510</td>\n",
       "      <td>0.589101</td>\n",
       "    </tr>\n",
       "    <tr>\n",
       "      <th>23</th>\n",
       "      <td>27</td>\n",
       "      <td>1</td>\n",
       "      <td>85.96</td>\n",
       "      <td>22.62</td>\n",
       "      <td>0.569</td>\n",
       "      <td>9.52</td>\n",
       "      <td>3.60</td>\n",
       "      <td>5.16</td>\n",
       "      <td>3.78</td>\n",
       "      <td>0.000263</td>\n",
       "      <td>0.420866</td>\n",
       "    </tr>\n",
       "    <tr>\n",
       "      <th>24</th>\n",
       "      <td>28</td>\n",
       "      <td>1</td>\n",
       "      <td>359.00</td>\n",
       "      <td>73.23</td>\n",
       "      <td>6.180</td>\n",
       "      <td>18.70</td>\n",
       "      <td>0.00</td>\n",
       "      <td>0.00</td>\n",
       "      <td>0.00</td>\n",
       "      <td>0.000204</td>\n",
       "      <td>0.255360</td>\n",
       "    </tr>\n",
       "    <tr>\n",
       "      <th>25</th>\n",
       "      <td>29</td>\n",
       "      <td>1</td>\n",
       "      <td>15.95</td>\n",
       "      <td>3.07</td>\n",
       "      <td>0.042</td>\n",
       "      <td>1.61</td>\n",
       "      <td>0.70</td>\n",
       "      <td>0.31</td>\n",
       "      <td>0.40</td>\n",
       "      <td>0.000192</td>\n",
       "      <td>0.524430</td>\n",
       "    </tr>\n",
       "  </tbody>\n",
       "</table>\n",
       "</div>"
      ],
      "text/plain": [
       "    Species ID  Bird or Dino  Body Mass (kg)  Total Endocranium (cm3)  \\\n",
       "0            3             0            0.01                     2.20   \n",
       "1            4             0            0.03                     4.02   \n",
       "2            5             0            0.02                     1.98   \n",
       "3            6             0            0.01                     0.87   \n",
       "4            7             0            0.17                     9.11   \n",
       "5            8             0            0.05                     2.48   \n",
       "6            9             0            0.26                    12.28   \n",
       "7           10             0            0.17                     6.76   \n",
       "8           11             0            0.43                    14.33   \n",
       "9           12             0            0.30                     9.87   \n",
       "10          13             0            1.26                    22.04   \n",
       "11          14             0            0.10                     1.11   \n",
       "12          15             0            0.90                     8.68   \n",
       "13          16             0            2.06                    17.69   \n",
       "14          17             0            2.18                    15.10   \n",
       "15          18             0            1.20                     7.69   \n",
       "16          19             0            2.33                    11.43   \n",
       "17          20             1            0.92                     3.11   \n",
       "18          21             1            0.25                     0.83   \n",
       "19          22             1            0.50                     1.44   \n",
       "20          24             0           59.30                    56.31   \n",
       "21          25             1           12.61                     8.83   \n",
       "22          26             1           49.30                    25.14   \n",
       "23          27             1           85.96                    22.62   \n",
       "24          28             1          359.00                    73.23   \n",
       "25          29             1           15.95                     3.07   \n",
       "\n",
       "    Olfactory bulbs (cm3)  Cerebrum (cm3)  Optic Lobes (cm3)  \\\n",
       "0                   0.003            1.57               0.20   \n",
       "1                   0.010            2.22               0.73   \n",
       "2                   0.009            1.53               0.20   \n",
       "3                   0.006            0.46               0.24   \n",
       "4                   0.015            6.09               0.88   \n",
       "5                   0.008            1.63               0.41   \n",
       "6                   0.027            8.36               1.40   \n",
       "7                   0.055            4.69               0.95   \n",
       "8                   0.206            9.45               1.44   \n",
       "9                   0.041            5.50               1.62   \n",
       "10                  0.006           16.81               2.84   \n",
       "11                  0.003            0.63               0.27   \n",
       "12                  0.234            5.95               0.99   \n",
       "13                  0.032           12.24               2.16   \n",
       "14                  0.026           11.08               1.95   \n",
       "15                  0.036            5.18               0.90   \n",
       "16                  0.009            8.05               1.07   \n",
       "17                  0.021            1.38               0.87   \n",
       "18                  0.050            0.41               0.16   \n",
       "19                  0.077            0.60               0.36   \n",
       "20                  0.274           36.85               7.61   \n",
       "21                  0.028            3.71               1.31   \n",
       "22                  1.080           14.81               4.75   \n",
       "23                  0.569            9.52               3.60   \n",
       "24                  6.180           18.70               0.00   \n",
       "25                  0.042            1.61               0.70   \n",
       "\n",
       "    Cerebellum (cm3)  Brain Stem (cm3)  Brain vs body mass  \\\n",
       "0               0.34              0.08            0.220000   \n",
       "1               0.76              0.29            0.134000   \n",
       "2               0.16              0.06            0.099000   \n",
       "3               0.11              0.06            0.087000   \n",
       "4               1.62              0.49            0.053588   \n",
       "5               0.26              0.17            0.049600   \n",
       "6               1.63              0.86            0.047231   \n",
       "7               0.53              0.53            0.039765   \n",
       "8               2.40              0.85            0.033326   \n",
       "9               1.94              0.77            0.032900   \n",
       "10              1.70              0.68            0.017492   \n",
       "11              0.13              0.07            0.011100   \n",
       "12              0.96              0.55            0.009644   \n",
       "13              2.18              1.07            0.008587   \n",
       "14              0.89              1.15            0.006927   \n",
       "15              1.00              0.58            0.006408   \n",
       "16              1.62              0.68            0.004906   \n",
       "17              0.50              0.33            0.003380   \n",
       "18              0.09              0.12            0.003320   \n",
       "19              0.24              0.17            0.002880   \n",
       "20              6.45              5.13            0.000950   \n",
       "21              1.60              2.17            0.000700   \n",
       "22              3.16              2.35            0.000510   \n",
       "23              5.16              3.78            0.000263   \n",
       "24              0.00              0.00            0.000204   \n",
       "25              0.31              0.40            0.000192   \n",
       "\n",
       "    Cerebrum vs total brain  \n",
       "0                  0.713636  \n",
       "1                  0.552239  \n",
       "2                  0.772727  \n",
       "3                  0.528736  \n",
       "4                  0.668496  \n",
       "5                  0.657258  \n",
       "6                  0.680782  \n",
       "7                  0.693787  \n",
       "8                  0.659456  \n",
       "9                  0.557244  \n",
       "10                 0.762704  \n",
       "11                 0.567568  \n",
       "12                 0.685484  \n",
       "13                 0.691916  \n",
       "14                 0.733775  \n",
       "15                 0.673602  \n",
       "16                 0.704287  \n",
       "17                 0.443730  \n",
       "18                 0.493976  \n",
       "19                 0.416667  \n",
       "20                 0.654413  \n",
       "21                 0.420159  \n",
       "22                 0.589101  \n",
       "23                 0.420866  \n",
       "24                 0.255360  \n",
       "25                 0.524430  "
      ]
     },
     "execution_count": 7,
     "metadata": {},
     "output_type": "execute_result"
    }
   ],
   "source": [
    "df"
   ]
  },
  {
   "cell_type": "markdown",
   "metadata": {},
   "source": [
    "Our machine learning algorithm requires a numpy matrix instead of a dataframe.\n",
    "\n",
    "PAUSE: When you get to this point, let your Helen Fellow know and we will review numpy matrices before we continue with machine learning\n",
    "\n",
    "We can convert the dataframe to a numpy matrix using the .to_numpy() method. Assign your matrix to a variable:"
   ]
  },
  {
   "cell_type": "code",
   "execution_count": 8,
   "metadata": {},
   "outputs": [],
   "source": [
    "array = df.to_numpy()"
   ]
  },
  {
   "cell_type": "markdown",
   "metadata": {},
   "source": [
    "Print out the data type of matrix and the first value in the matrix (note: this is a two dimensional matrix):"
   ]
  },
  {
   "cell_type": "code",
   "execution_count": 9,
   "metadata": {},
   "outputs": [
    {
     "name": "stdout",
     "output_type": "stream",
     "text": [
      "<class 'numpy.ndarray'>\n"
     ]
    }
   ],
   "source": [
    "print(type(array))\n"
   ]
  },
  {
   "cell_type": "markdown",
   "metadata": {},
   "source": [
    "Now we will create our classifier. Just as it is common to call a dataframe \"df\" it is common to call a classifier \"clf\":"
   ]
  },
  {
   "cell_type": "code",
   "execution_count": 10,
   "metadata": {},
   "outputs": [],
   "source": [
    "clf = tree.DecisionTreeClassifier()"
   ]
  },
  {
   "cell_type": "markdown",
   "metadata": {},
   "source": [
    "Next, we will select the x and y data for our algorithm. x should be the two columns we will use to train the algorithm (brain to body ratio and cerebrum to whole brain ratio). y should be the first column which contains our \"class labels\".\n",
    "\n",
    "Hint: You can use slicing to select a particular value from every row of a numpy array. For example, using the index [:,1] will select the second column."
   ]
  },
  {
   "cell_type": "code",
   "execution_count": 11,
   "metadata": {},
   "outputs": [],
   "source": [
    "x= array[:,9:]\n",
    "y= array[:,1]\n"
   ]
  },
  {
   "cell_type": "markdown",
   "metadata": {},
   "source": [
    "Next we will use the .fit() method to fit our data to the classifier:"
   ]
  },
  {
   "cell_type": "code",
   "execution_count": 12,
   "metadata": {},
   "outputs": [],
   "source": [
    "clf = clf.fit(x,y)"
   ]
  },
  {
   "cell_type": "markdown",
   "metadata": {},
   "source": [
    "We can visualize the path of the decision tree's decision making using the .plot_tree function and matplotlib.pyplot's plt.show function:"
   ]
  },
  {
   "cell_type": "code",
   "execution_count": 13,
   "metadata": {},
   "outputs": [
    {
     "data": {
      "image/png": "[encoded data removed]",
      "text/plain": [
       "<Figure size 432x288 with 1 Axes>"
      ]
     },
     "metadata": {
      "needs_background": "light"
     },
     "output_type": "display_data"
    }
   ],
   "source": [
    "tree.plot_tree(clf,class_names =[\"Bird\",\"Dino\"])\n",
    "plt.show()"
   ]
  },
  {
   "cell_type": "markdown",
   "metadata": {},
   "source": [
    "Now let's test out our decision tree with some data from one of the brains we studied! We can use the .predict_proba method. \n",
    "\n",
    "A result of array([[1., 0.]]) means the algorithm is certain it's a bird and a result of array([[0., 1.]]) means the algorithm is certain it's a dinosaur.\n",
    "\n",
    "For example:"
   ]
  },
  {
   "cell_type": "code",
   "execution_count": 14,
   "metadata": {},
   "outputs": [
    {
     "data": {
      "text/plain": [
       "array([[1., 0.]])"
      ]
     },
     "execution_count": 14,
     "metadata": {},
     "output_type": "execute_result"
    }
   ],
   "source": [
    "# This is the brain to body mass ratio and cerebrum to whole brain ratio for the woodpecker:\n",
    "clf.predict_proba([[0.22,0.71]])"
   ]
  },
  {
   "cell_type": "markdown",
   "metadata": {},
   "source": [
    "Try it with the data from your brain specimen!"
   ]
  },
  {
   "cell_type": "code",
   "execution_count": 15,
   "metadata": {},
   "outputs": [
    {
     "data": {
      "text/plain": [
       "array([[1., 0.]])"
      ]
     },
     "execution_count": 15,
     "metadata": {},
     "output_type": "execute_result"
    }
   ],
   "source": [
    "clf.predict_proba([[0.5,0.5]])"
   ]
  },
  {
   "cell_type": "code",
   "execution_count": 16,
   "metadata": {},
   "outputs": [
    {
     "name": "stdout",
     "output_type": "stream",
     "text": [
      "Accuracy for Decision Tree Classifier: 92.3076923076923%\n"
     ]
    }
   ],
   "source": [
    "x_train, x_test, y_train, y_test = train_test_split(x, y, test_size=.5)\n",
    "\n",
    "clrTree = tree.DecisionTreeClassifier()\n",
    "clrTree = clrTree.fit(x_train, y_train)\n",
    "outTree = clrTree.predict(x_test)\n",
    "\n",
    "print(\"Accuracy for Decision Tree Classifier: \" + str(accuracy_score(y_test, outTree)*100)+\"%\")"
   ]
  },
  {
   "cell_type": "markdown",
   "metadata": {},
   "source": [
    "## Bonus Challenge: \n",
    "Try to train another classifier that's based on the size of each brain region and test it out!"
   ]
  },
  {
   "cell_type": "code",
   "execution_count": 17,
   "metadata": {},
   "outputs": [
    {
     "data": {
      "text/html": [
       "<div>\n",
       "<style scoped>\n",
       "    .dataframe tbody tr th:only-of-type {\n",
       "        vertical-align: middle;\n",
       "    }\n",
       "\n",
       "    .dataframe tbody tr th {\n",
       "        vertical-align: top;\n",
       "    }\n",
       "\n",
       "    .dataframe thead th {\n",
       "        text-align: right;\n",
       "    }\n",
       "</style>\n",
       "<table border=\"1\" class=\"dataframe\">\n",
       "  <thead>\n",
       "    <tr style=\"text-align: right;\">\n",
       "      <th></th>\n",
       "      <th>Species ID</th>\n",
       "      <th>Bird or Dino</th>\n",
       "      <th>Body Mass (kg)</th>\n",
       "      <th>Total Endocranium (cm3)</th>\n",
       "      <th>Olfactory bulbs (cm3)</th>\n",
       "      <th>Cerebrum (cm3)</th>\n",
       "      <th>Optic Lobes (cm3)</th>\n",
       "      <th>Cerebellum (cm3)</th>\n",
       "      <th>Brain Stem (cm3)</th>\n",
       "      <th>Brain vs body mass</th>\n",
       "      <th>Cerebrum vs total brain</th>\n",
       "    </tr>\n",
       "  </thead>\n",
       "  <tbody>\n",
       "    <tr>\n",
       "      <th>0</th>\n",
       "      <td>3</td>\n",
       "      <td>0</td>\n",
       "      <td>0.01</td>\n",
       "      <td>2.20</td>\n",
       "      <td>0.003</td>\n",
       "      <td>1.57</td>\n",
       "      <td>0.20</td>\n",
       "      <td>0.34</td>\n",
       "      <td>0.08</td>\n",
       "      <td>0.220000</td>\n",
       "      <td>0.713636</td>\n",
       "    </tr>\n",
       "    <tr>\n",
       "      <th>1</th>\n",
       "      <td>4</td>\n",
       "      <td>0</td>\n",
       "      <td>0.03</td>\n",
       "      <td>4.02</td>\n",
       "      <td>0.010</td>\n",
       "      <td>2.22</td>\n",
       "      <td>0.73</td>\n",
       "      <td>0.76</td>\n",
       "      <td>0.29</td>\n",
       "      <td>0.134000</td>\n",
       "      <td>0.552239</td>\n",
       "    </tr>\n",
       "    <tr>\n",
       "      <th>2</th>\n",
       "      <td>5</td>\n",
       "      <td>0</td>\n",
       "      <td>0.02</td>\n",
       "      <td>1.98</td>\n",
       "      <td>0.009</td>\n",
       "      <td>1.53</td>\n",
       "      <td>0.20</td>\n",
       "      <td>0.16</td>\n",
       "      <td>0.06</td>\n",
       "      <td>0.099000</td>\n",
       "      <td>0.772727</td>\n",
       "    </tr>\n",
       "    <tr>\n",
       "      <th>3</th>\n",
       "      <td>6</td>\n",
       "      <td>0</td>\n",
       "      <td>0.01</td>\n",
       "      <td>0.87</td>\n",
       "      <td>0.006</td>\n",
       "      <td>0.46</td>\n",
       "      <td>0.24</td>\n",
       "      <td>0.11</td>\n",
       "      <td>0.06</td>\n",
       "      <td>0.087000</td>\n",
       "      <td>0.528736</td>\n",
       "    </tr>\n",
       "    <tr>\n",
       "      <th>4</th>\n",
       "      <td>7</td>\n",
       "      <td>0</td>\n",
       "      <td>0.17</td>\n",
       "      <td>9.11</td>\n",
       "      <td>0.015</td>\n",
       "      <td>6.09</td>\n",
       "      <td>0.88</td>\n",
       "      <td>1.62</td>\n",
       "      <td>0.49</td>\n",
       "      <td>0.053588</td>\n",
       "      <td>0.668496</td>\n",
       "    </tr>\n",
       "  </tbody>\n",
       "</table>\n",
       "</div>"
      ],
      "text/plain": [
       "   Species ID  Bird or Dino  Body Mass (kg)  Total Endocranium (cm3)  \\\n",
       "0           3             0            0.01                     2.20   \n",
       "1           4             0            0.03                     4.02   \n",
       "2           5             0            0.02                     1.98   \n",
       "3           6             0            0.01                     0.87   \n",
       "4           7             0            0.17                     9.11   \n",
       "\n",
       "   Olfactory bulbs (cm3)  Cerebrum (cm3)  Optic Lobes (cm3)  Cerebellum (cm3)  \\\n",
       "0                  0.003            1.57               0.20              0.34   \n",
       "1                  0.010            2.22               0.73              0.76   \n",
       "2                  0.009            1.53               0.20              0.16   \n",
       "3                  0.006            0.46               0.24              0.11   \n",
       "4                  0.015            6.09               0.88              1.62   \n",
       "\n",
       "   Brain Stem (cm3)  Brain vs body mass  Cerebrum vs total brain  \n",
       "0              0.08            0.220000                 0.713636  \n",
       "1              0.29            0.134000                 0.552239  \n",
       "2              0.06            0.099000                 0.772727  \n",
       "3              0.06            0.087000                 0.528736  \n",
       "4              0.49            0.053588                 0.668496  "
      ]
     },
     "execution_count": 17,
     "metadata": {},
     "output_type": "execute_result"
    }
   ],
   "source": [
    "df.head()"
   ]
  },
  {
   "cell_type": "code",
   "execution_count": 18,
   "metadata": {},
   "outputs": [],
   "source": [
    "clf2 = tree.DecisionTreeClassifier()\n",
    "x1= array[:,4:9]\n"
   ]
  },
  {
   "cell_type": "code",
   "execution_count": 19,
   "metadata": {},
   "outputs": [],
   "source": [
    "clf2 = clf.fit(x1,y)"
   ]
  },
  {
   "cell_type": "code",
   "execution_count": 20,
   "metadata": {},
   "outputs": [
    {
     "data": {
      "image/png": "[encoded data removed]",
      "text/plain": [
       "<Figure size 432x288 with 1 Axes>"
      ]
     },
     "metadata": {
      "needs_background": "light"
     },
     "output_type": "display_data"
    }
   ],
   "source": [
    "tree.plot_tree(clf2,class_names =[\"Bird\",\"Dino\"])\n",
    "plt.show()"
   ]
  },
  {
   "cell_type": "code",
   "execution_count": 21,
   "metadata": {},
   "outputs": [
    {
     "ename": "NameError",
     "evalue": "name 'graphviz' is not defined",
     "output_type": "error",
     "traceback": [
      "\u001b[0;31m---------------------------------------------------------------------------\u001b[0m",
      "\u001b[0;31mNameError\u001b[0m                                 Traceback (most recent call last)",
      "\u001b[0;32m<ipython-input-21-230b39f89ab5>\u001b[0m in \u001b[0;36m<module>\u001b[0;34m\u001b[0m\n\u001b[1;32m      7\u001b[0m                       \u001b[0mfilled\u001b[0m\u001b[0;34m=\u001b[0m\u001b[0;32mTrue\u001b[0m\u001b[0;34m,\u001b[0m \u001b[0mrounded\u001b[0m\u001b[0;34m=\u001b[0m\u001b[0;32mTrue\u001b[0m\u001b[0;34m,\u001b[0m\u001b[0;34m\u001b[0m\u001b[0;34m\u001b[0m\u001b[0m\n\u001b[1;32m      8\u001b[0m                       special_characters=True)  \n\u001b[0;32m----> 9\u001b[0;31m \u001b[0mgraph\u001b[0m \u001b[0;34m=\u001b[0m \u001b[0mgraphviz\u001b[0m\u001b[0;34m.\u001b[0m\u001b[0mSource\u001b[0m\u001b[0;34m(\u001b[0m\u001b[0mdot_data\u001b[0m\u001b[0;34m)\u001b[0m\u001b[0;34m\u001b[0m\u001b[0;34m\u001b[0m\u001b[0m\n\u001b[0m\u001b[1;32m     10\u001b[0m \u001b[0mgraph\u001b[0m\u001b[0;34m\u001b[0m\u001b[0;34m\u001b[0m\u001b[0m\n",
      "\u001b[0;31mNameError\u001b[0m: name 'graphviz' is not defined"
     ]
    }
   ],
   "source": [
    "# More direct code to just plot the tree\n",
    "dot_data = tree.export_graphviz(clf, out_file=None, \n",
    "                     feature_names= ['Olfactory bulbs (cm3)', 'Cerebrum (cm3)',\n",
    "                                     'Optic Lobes (cm3)','Cerebellum (cm3)' ,\n",
    "                                    'Brain Stem (cm3)'],  \n",
    "                      class_names=['Bird','Dino'],  \n",
    "                      filled=True, rounded=True,  \n",
    "                      special_characters=True)  \n",
    "graph = graphviz.Source(dot_data)  \n",
    "graph \n"
   ]
  },
  {
   "cell_type": "code",
   "execution_count": null,
   "metadata": {},
   "outputs": [],
   "source": []
  }
 ],
 "metadata": {
  "kernelspec": {
   "display_name": "Python 3",
   "language": "python",
   "name": "python3"
  },
  "language_info": {
   "codemirror_mode": {
    "name": "ipython",
    "version": 3
   },
   "file_extension": ".py",
   "mimetype": "text/x-python",
   "name": "python",
   "nbconvert_exporter": "python",
   "pygments_lexer": "ipython3",
   "version": "3.7.3"
  }
 },
 "nbformat": 4,
 "nbformat_minor": 2
}
